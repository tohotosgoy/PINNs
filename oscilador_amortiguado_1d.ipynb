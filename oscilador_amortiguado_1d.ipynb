{
 "cells": [
  {
   "cell_type": "code",
   "execution_count": 14,
   "id": "2fdef321",
   "metadata": {},
   "outputs": [],
   "source": [
    "import torch\n",
    "import torch.nn as nn\n",
    "import torch.nn.functional as F\n",
    "\n",
    "import numpy as np\n",
    "import matplotlib.pyplot as plt"
   ]
  },
  {
   "cell_type": "code",
   "execution_count": 15,
   "id": "8750b829",
   "metadata": {},
   "outputs": [
    {
     "name": "stdout",
     "output_type": "stream",
     "text": [
      "cuda\n"
     ]
    }
   ],
   "source": [
    "device = torch.device('cuda' if torch.cuda.is_available() else 'cpu')\n",
    "print(device)"
   ]
  },
  {
   "cell_type": "code",
   "execution_count": 16,
   "id": "079e22b6",
   "metadata": {},
   "outputs": [],
   "source": [
    "t_max = 30\n",
    "epsilon = 1e-6\n",
    "N_t = 150\n",
    "l=1.0\n",
    "w=10.0\n",
    "\n",
    "lr = 0.5e-3\n",
    "layers = 4\n",
    "neuronas = 20\n",
    "epocs = 20_000"
   ]
  },
  {
   "cell_type": "code",
   "execution_count": 17,
   "id": "70e99416",
   "metadata": {},
   "outputs": [],
   "source": [
    "# Modelo\n",
    "\n",
    "class FunAct(nn.Module):\n",
    "    def forward(self,x):\n",
    "        return torch.tanh(x)\n",
    "\n",
    "\n",
    "class MLP(nn.Module):\n",
    "    def __init__(self, in_dim=1, out_dim=1, width=neuronas, depth=layers):\n",
    "        super().__init__()\n",
    "        capas = [nn.Linear(in_dim, width), FunAct()]\n",
    "        for _ in range(depth - 1):\n",
    "            capas += [nn.Linear(width, width), FunAct()]\n",
    "        capas +=[nn.Linear(width, out_dim)]\n",
    "        self.net=nn.Sequential(*capas)    \n",
    "\n",
    "    def forward(self, x):\n",
    "        return self.net(x)"
   ]
  },
  {
   "cell_type": "code",
   "execution_count": 18,
   "id": "10f64026",
   "metadata": {},
   "outputs": [],
   "source": [
    "u = MLP().to(device)"
   ]
  },
  {
   "cell_type": "code",
   "execution_count": 19,
   "id": "36824694",
   "metadata": {},
   "outputs": [],
   "source": [
    "def D(y, x):\n",
    "    return torch.autograd.grad(y,x, torch.ones_like(y), retain_graph = True, create_graph= True)[0]\n",
    "def R(u,t):\n",
    "    \n",
    "    \n",
    "\n",
    "    u_t = D(u,t)\n",
    "    u_tt = D(u_t,t)\n",
    "\n",
    "    return w*w*u + 2*u_t + u_tt\n",
    "\n",
    "def u_forward(t):\n",
    "    return u(t)"
   ]
  },
  {
   "cell_type": "code",
   "execution_count": 20,
   "id": "85ebd0ea",
   "metadata": {},
   "outputs": [],
   "source": [
    "def muestreo(N):\n",
    "    return torch.rand(N, 1, device=device)*(t_max - epsilon) + epsilon"
   ]
  },
  {
   "cell_type": "code",
   "execution_count": 21,
   "id": "b123fb14",
   "metadata": {},
   "outputs": [],
   "source": [
    "optimizador = torch.optim.Adam(u.parameters(), lr)"
   ]
  },
  {
   "cell_type": "code",
   "execution_count": null,
   "id": "1161c5be",
   "metadata": {},
   "outputs": [
    {
     "name": "stdout",
     "output_type": "stream",
     "text": [
      "step    0 | loss 1.921e+01\n",
      "step  200 | loss 1.024e+00\n",
      "step  400 | loss 9.961e-01\n",
      "step  600 | loss 9.946e-01\n",
      "step  800 | loss 9.959e-01\n",
      "step 1000 | loss 9.895e-01\n",
      "step 1200 | loss 9.828e-01\n",
      "step 1400 | loss 9.933e-01\n",
      "step 1600 | loss 1.009e+00\n",
      "step 1800 | loss 9.870e-01\n",
      "step 2000 | loss 9.792e-01\n",
      "step 2200 | loss 9.983e-01\n",
      "step 2400 | loss 9.991e-01\n",
      "step 2600 | loss 9.795e-01\n",
      "step 2800 | loss 9.999e-01\n",
      "step 3000 | loss 9.825e-01\n",
      "step 3200 | loss 9.793e-01\n",
      "step 3400 | loss 9.938e-01\n",
      "step 3600 | loss 9.748e-01\n",
      "step 3800 | loss 1.009e+00\n",
      "step 4000 | loss 9.745e-01\n",
      "step 4200 | loss 9.761e-01\n",
      "step 4400 | loss 9.802e-01\n",
      "step 4600 | loss 9.974e-01\n",
      "step 4800 | loss 1.005e+00\n",
      "step 5000 | loss 9.682e-01\n",
      "step 5200 | loss 9.610e-01\n",
      "step 5400 | loss 9.742e-01\n",
      "step 5600 | loss 9.900e-01\n",
      "step 5800 | loss 9.713e-01\n",
      "step 6000 | loss 1.029e+00\n",
      "step 6200 | loss 9.905e-01\n",
      "step 6400 | loss 9.713e-01\n",
      "step 6600 | loss 9.834e-01\n",
      "step 6800 | loss 9.715e-01\n",
      "step 7000 | loss 9.707e-01\n",
      "step 7200 | loss 9.668e-01\n",
      "step 7400 | loss 1.010e+00\n",
      "step 7600 | loss 9.826e-01\n",
      "step 7800 | loss 9.671e-01\n",
      "step 8000 | loss 9.623e-01\n",
      "step 8200 | loss 9.861e-01\n",
      "step 8400 | loss 9.758e-01\n",
      "step 8600 | loss 9.827e-01\n",
      "step 8800 | loss 9.597e-01\n",
      "step 9000 | loss 9.804e-01\n",
      "step 9200 | loss 9.958e-01\n",
      "step 9400 | loss 9.945e-01\n",
      "step 9600 | loss 9.653e-01\n",
      "step 9800 | loss 9.549e-01\n",
      "step 10000 | loss 9.845e-01\n",
      "step 10200 | loss 9.728e-01\n",
      "step 10400 | loss 9.504e-01\n",
      "step 10600 | loss 9.577e-01\n",
      "step 10800 | loss 9.788e-01\n",
      "step 11000 | loss 9.771e-01\n",
      "step 11200 | loss 9.579e-01\n",
      "step 11400 | loss 9.517e-01\n",
      "step 11600 | loss 1.002e+00\n",
      "step 11800 | loss 9.596e-01\n",
      "step 12000 | loss 9.709e-01\n",
      "step 12200 | loss 9.474e-01\n",
      "step 12400 | loss 9.806e-01\n",
      "step 12600 | loss 9.719e-01\n",
      "step 12800 | loss 9.604e-01\n",
      "step 13000 | loss 9.500e-01\n",
      "step 13200 | loss 9.669e-01\n",
      "step 13400 | loss 9.678e-01\n",
      "step 13600 | loss 9.632e-01\n",
      "step 13800 | loss 9.857e-01\n",
      "step 14000 | loss 9.858e-01\n",
      "step 14200 | loss 1.011e+00\n",
      "step 14400 | loss 9.867e-01\n",
      "step 14600 | loss 9.578e-01\n",
      "step 14800 | loss 1.016e+00\n",
      "step 15000 | loss 9.667e-01\n",
      "step 15200 | loss 9.395e-01\n",
      "step 15400 | loss 1.010e+00\n",
      "step 15600 | loss 9.461e-01\n",
      "step 15800 | loss 9.498e-01\n",
      "step 16000 | loss 9.321e-01\n",
      "step 16200 | loss 9.252e-01\n",
      "step 16400 | loss 8.981e-01\n",
      "step 16600 | loss 9.271e-01\n",
      "step 16800 | loss 9.571e-01\n",
      "step 17000 | loss 9.243e-01\n",
      "step 17200 | loss 9.145e-01\n",
      "step 17400 | loss 8.805e-01\n",
      "step 17600 | loss 9.293e-01\n",
      "step 17800 | loss 9.687e-01\n",
      "step 18000 | loss 8.615e-01\n",
      "step 18200 | loss 8.865e-01\n",
      "step 18400 | loss 9.136e-01\n",
      "step 18600 | loss 8.399e-01\n",
      "step 18800 | loss 8.806e-01\n",
      "step 19000 | loss 9.846e-01\n",
      "step 19200 | loss 8.449e-01\n",
      "step 19400 | loss 9.247e-01\n",
      "step 19600 | loss 8.845e-01\n",
      "step 19800 | loss 8.971e-01\n"
     ]
    }
   ],
   "source": [
    "loss_valores = []\n",
    "\n",
    "for step in range(epocs):\n",
    "\n",
    "    optimizador.zero_grad()\n",
    "\n",
    "    t_i = muestreo(N_t).clone().detach().requires_grad_()\n",
    "    #u_i = u_forward(t_i)\n",
    "    R_i = R(u(t_i),t_i)\n",
    "    \n",
    "    # Condiciones de borde (CB): u(0) = ℓ\n",
    "    t0 = torch.tensor([[0.0]], device=device, requires_grad=True)\n",
    "    u_t0 = D(u(t0),t0)\n",
    "    \n",
    "    u0 = u(t0)  # debería valer ℓ\n",
    "    \n",
    "\n",
    "    # Definir la pérdida asociada a esas condiciones\n",
    "    ci1_loss = ((u0 - torch.tensor([[1.0]], device=device, requires_grad=False)*l)**2).mean() \n",
    "\n",
    "    ci2_loss = ((u_t0 - torch.tensor([[0.0]], device=device, requires_grad=False))**2).mean()\n",
    "\n",
    "\n",
    "    loss = (R_i*R_i).mean() + ci1_loss + ci2_loss\n",
    "\n",
    "    loss_valores.append(loss.item())\n",
    "\n",
    "    loss.backward()\n",
    "\n",
    "    optimizador.step()\n",
    "\n",
    "    if step % 200 == 0:\n",
    "        print(f\"step {step:4d} | loss {loss.item():.3e}\")\n"
   ]
  },
  {
   "cell_type": "code",
   "execution_count": 23,
   "id": "20bdac79",
   "metadata": {},
   "outputs": [
    {
     "data": {
      "text/plain": [
       "Text(0.5, 1.0, 'loss')"
      ]
     },
     "execution_count": 23,
     "metadata": {},
     "output_type": "execute_result"
    },
    {
     "data": {
      "image/png": "[encoded data removed]",
      "text/plain": [
       "<Figure size 640x480 with 1 Axes>"
      ]
     },
     "metadata": {},
     "output_type": "display_data"
    }
   ],
   "source": [
    "plt.plot(loss_valores)\n",
    "plt.title('loss')"
   ]
  },
  {
   "cell_type": "code",
   "execution_count": 24,
   "id": "5f6e5f52",
   "metadata": {},
   "outputs": [
    {
     "data": {
      "text/plain": [
       "Text(0, 0.5, 'Loss')"
      ]
     },
     "execution_count": 24,
     "metadata": {},
     "output_type": "execute_result"
    },
    {
     "data": {
      "image/png": "[encoded data removed]",
      "text/plain": [
       "<Figure size 640x480 with 1 Axes>"
      ]
     },
     "metadata": {},
     "output_type": "display_data"
    }
   ],
   "source": [
    "import matplotlib.pyplot as plt\n",
    "plt.plot(loss_valores)\n",
    "plt.yscale('log')  # si baja exponencialmente\n",
    "plt.xlabel(\"Step\"); plt.ylabel(\"Loss\")"
   ]
  },
  {
   "cell_type": "code",
   "execution_count": 25,
   "id": "d1406a69",
   "metadata": {},
   "outputs": [
    {
     "data": {
      "image/png": "[encoded data removed]",
      "text/plain": [
       "<Figure size 640x480 with 1 Axes>"
      ]
     },
     "metadata": {},
     "output_type": "display_data"
    }
   ],
   "source": [
    "with torch.no_grad():\n",
    "    t_vals = t_i.detach().cpu().numpy()\n",
    "    u_vals = u(t_i).detach().cpu().numpy()\n",
    "\n",
    "def u_esacta(t):\n",
    "    return l*np.exp(t/2)*(np.cos(np.sqrt(3)*t/2) - np.sin(np.sqrt(3)*t/2)/np.sqrt(3))\n",
    "\n",
    "t_poblado = np.linspace(0,10,len(t_vals))\n",
    "\n",
    "plt.scatter(t_vals,u_vals)\n",
    "#plt.plot(t_poblado,u_esacta(t_poblado),'orange')\n",
    "plt.xlabel('time')\n",
    "plt.ylabel('posicion')\n",
    "plt.show()"
   ]
  },
  {
   "cell_type": "code",
   "execution_count": null,
   "id": "2387f67c",
   "metadata": {},
   "outputs": [],
   "source": []
  }
 ],
 "metadata": {
  "kernelspec": {
   "display_name": "Python 3",
   "language": "python",
   "name": "python3"
  },
  "language_info": {
   "codemirror_mode": {
    "name": "ipython",
    "version": 3
   },
   "file_extension": ".py",
   "mimetype": "text/x-python",
   "name": "python",
   "nbconvert_exporter": "python",
   "pygments_lexer": "ipython3",
   "version": "3.11.9"
  }
 },
 "nbformat": 4,
 "nbformat_minor": 5
}
